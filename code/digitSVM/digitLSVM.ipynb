{
 "cells": [
  {
   "cell_type": "code",
   "execution_count": 1,
   "metadata": {
    "id": "_rNsu8AsfJyb"
   },
   "outputs": [],
   "source": [
    "import matplotlib.pyplot as plt\n",
    "%matplotlib inline"
   ]
  },
  {
   "cell_type": "code",
   "execution_count": 2,
   "metadata": {
    "id": "pOh9DngzfaoE"
   },
   "outputs": [],
   "source": [
    "import numpy as np"
   ]
  },
  {
   "cell_type": "code",
   "execution_count": 3,
   "metadata": {
    "colab": {
     "base_uri": "https://localhost:8080/"
    },
    "id": "Pd4ZZAb-fhiq",
    "outputId": "ee50d0c8-6a1a-4761-db59-845769a825b7"
   },
   "outputs": [],
   "source": [
    "from keras.datasets import mnist\n",
    "\n",
    "(x_train,y_train) , (x_test,y_test) = mnist.load_data()"
   ]
  },
  {
   "cell_type": "code",
   "execution_count": 5,
   "metadata": {
    "id": "89pSLk-Vftks"
   },
   "outputs": [],
   "source": [
    "## Data Preprocessing and normalizing the data between 0 and 1\n",
    "x_train = x_train.reshape(60000,784)\n",
    "x_train = x_train/255\n",
    "x_test = x_test.reshape(10000,784)\n",
    "x_test = x_test/255"
   ]
  },
  {
   "cell_type": "code",
   "execution_count": 6,
   "metadata": {
    "id": "v_ygUsV6lwqn"
   },
   "outputs": [],
   "source": [
    "from sklearn.preprocessing import StandardScaler\n"
   ]
  },
  {
   "cell_type": "code",
   "execution_count": 7,
   "metadata": {
    "id": "GNNfSA9-lgID"
   },
   "outputs": [],
   "source": [
    "s = StandardScaler()\n"
   ]
  },
  {
   "cell_type": "code",
   "execution_count": 8,
   "metadata": {
    "id": "DPRaSQ6NlrxW"
   },
   "outputs": [],
   "source": [
    "x_train = s.fit_transform(x_train)\n",
    "x_test  = s.fit_transform(x_test)"
   ]
  },
  {
   "cell_type": "markdown",
   "metadata": {
    "id": "FEZZO892l1LU"
   },
   "source": [
    "## Linear SVM:"
   ]
  },
  {
   "cell_type": "code",
   "execution_count": 9,
   "metadata": {
    "id": "4QXFfQak5au4"
   },
   "outputs": [],
   "source": [
    "from sklearn.svm import SVC "
   ]
  },
  {
   "cell_type": "code",
   "execution_count": 10,
   "metadata": {
    "id": "qASFM46d6BfG"
   },
   "outputs": [],
   "source": [
    "model = SVC(C=1,kernel='linear')"
   ]
  },
  {
   "cell_type": "code",
   "execution_count": 11,
   "metadata": {
    "colab": {
     "base_uri": "https://localhost:8080/"
    },
    "id": "V5zrhllh7FeA",
    "outputId": "99640fb9-e05b-40d4-eebf-bfb45200baec"
   },
   "outputs": [
    {
     "data": {
      "text/plain": [
       "SVC(C=1, kernel='linear')"
      ]
     },
     "execution_count": 11,
     "metadata": {},
     "output_type": "execute_result"
    }
   ],
   "source": [
    "model.fit(x_train,y_train)"
   ]
  },
  {
   "cell_type": "code",
   "execution_count": 12,
   "metadata": {
    "id": "71FJevpt7blE"
   },
   "outputs": [],
   "source": [
    "from sklearn.metrics import classification_report, accuracy_score, confusion_matrix"
   ]
  },
  {
   "cell_type": "code",
   "execution_count": 13,
   "metadata": {
    "id": "e3xjYw1j-hfR"
   },
   "outputs": [],
   "source": [
    "predictions = model.predict(x_test)"
   ]
  },
  {
   "cell_type": "code",
   "execution_count": 14,
   "metadata": {
    "colab": {
     "base_uri": "https://localhost:8080/"
    },
    "id": "pMATbjvx-x8v",
    "outputId": "21c25288-603c-430c-8a70-f6dc5bcb89cd"
   },
   "outputs": [
    {
     "name": "stdout",
     "output_type": "stream",
     "text": [
      "\n",
      "Testing Accuracy =  0.928\n"
     ]
    }
   ],
   "source": [
    "print(\"\\nTesting Accuracy = \", accuracy_score(y_true=y_test, y_pred=predictions))"
   ]
  },
  {
   "cell_type": "code",
   "execution_count": 17,
   "metadata": {
    "colab": {
     "base_uri": "https://localhost:8080/"
    },
    "id": "z5TyWDUM_P4J",
    "outputId": "435fa230-49e0-4483-904a-d5766ee09ba1"
   },
   "outputs": [
    {
     "name": "stdout",
     "output_type": "stream",
     "text": [
      "              precision    recall  f1-score   support\n",
      "\n",
      "           0       0.94      0.97      0.96       980\n",
      "           1       0.96      0.99      0.97      1135\n",
      "           2       0.90      0.93      0.91      1032\n",
      "           3       0.89      0.93      0.91      1010\n",
      "           4       0.92      0.94      0.93       982\n",
      "           5       0.91      0.89      0.90       892\n",
      "           6       0.96      0.93      0.95       958\n",
      "           7       0.95      0.92      0.93      1028\n",
      "           8       0.91      0.88      0.90       974\n",
      "           9       0.93      0.89      0.91      1009\n",
      "\n",
      "    accuracy                           0.93     10000\n",
      "   macro avg       0.93      0.93      0.93     10000\n",
      "weighted avg       0.93      0.93      0.93     10000\n",
      "\n"
     ]
    }
   ],
   "source": [
    "print(classification_report(y_test,predictions))"
   ]
  },
  {
   "cell_type": "code",
   "execution_count": 16,
   "metadata": {
    "colab": {
     "base_uri": "https://localhost:8080/"
    },
    "id": "28xeJN-VATtR",
    "outputId": "cb6b46d0-4173-4f2c-9799-af31d57527d9"
   },
   "outputs": [
    {
     "name": "stdout",
     "output_type": "stream",
     "text": [
      "[[ 953    0    6    2    1    8    6    2    1    1]\n",
      " [   0 1118    7    2    0    1    2    1    4    0]\n",
      " [   9   12  956   11    9    4    5    5   18    3]\n",
      " [   7    1   15  940    0   17    1    6   19    4]\n",
      " [   3    2   18    1  927    0    3    6    3   19]\n",
      " [   7    6    7   40    5  791   12    1   20    3]\n",
      " [  14    3   17    1    9   19  892    0    3    0]\n",
      " [   2    8   23   14   11    2    0  945    2   21]\n",
      " [  11    7   10   29    8   23    8    6  860   12]\n",
      " [   9    7    6   11   38    5    0   23   12  898]]\n"
     ]
    }
   ],
   "source": [
    "print(confusion_matrix(y_test,predictions))"
   ]
  },
  {
   "cell_type": "markdown",
   "metadata": {
    "id": "c7omu4zz_euW"
   },
   "source": [
    "## Linear SVM with PCA"
   ]
  },
  {
   "cell_type": "code",
   "execution_count": 18,
   "metadata": {
    "id": "heIH-z1n_2rt"
   },
   "outputs": [],
   "source": [
    "x_train_PCA = x_train\n",
    "x_test_PCA = x_test"
   ]
  },
  {
   "cell_type": "code",
   "execution_count": 19,
   "metadata": {
    "id": "X7M-DWnWAq5i"
   },
   "outputs": [],
   "source": [
    "## Applying PCA on the Dataset\n",
    "from sklearn.decomposition import PCA"
   ]
  },
  {
   "cell_type": "code",
   "execution_count": 20,
   "metadata": {
    "id": "oYQ3NWSBA2tS"
   },
   "outputs": [],
   "source": [
    "pca = PCA(n_components=0.97)        # Should lie between 0.95 to 0.99\n",
    "x_train_PCA = pca.fit_transform(x_train_PCA)  \n",
    "x_test_PCA = pca.transform(x_test_PCA)"
   ]
  },
  {
   "cell_type": "code",
   "execution_count": 21,
   "metadata": {
    "id": "xVf9MjptBLZQ"
   },
   "outputs": [],
   "source": [
    "model_PCA = SVC(C=1,kernel='linear')"
   ]
  },
  {
   "cell_type": "code",
   "execution_count": 22,
   "metadata": {
    "colab": {
     "base_uri": "https://localhost:8080/"
    },
    "id": "WgDt9ZgjBv1V",
    "outputId": "3d8787d3-f71b-4d10-87bd-70ab39c62db3"
   },
   "outputs": [
    {
     "data": {
      "text/plain": [
       "SVC(C=1, kernel='linear')"
      ]
     },
     "execution_count": 22,
     "metadata": {},
     "output_type": "execute_result"
    }
   ],
   "source": [
    "model_PCA.fit(x_train_PCA,y_train)"
   ]
  },
  {
   "cell_type": "code",
   "execution_count": 23,
   "metadata": {
    "id": "ZWRtJWcRBhR3"
   },
   "outputs": [],
   "source": [
    "predictions_PCA = model_PCA.predict(x_test_PCA)"
   ]
  },
  {
   "cell_type": "code",
   "execution_count": 24,
   "metadata": {
    "colab": {
     "base_uri": "https://localhost:8080/"
    },
    "id": "j1ZFTF2FCKQK",
    "outputId": "041d404a-be86-49c1-ead2-24b5693d3abe"
   },
   "outputs": [
    {
     "name": "stdout",
     "output_type": "stream",
     "text": [
      "\n",
      "Testing Accuracy =  0.9371\n"
     ]
    }
   ],
   "source": [
    "print(\"\\nTesting Accuracy = \", accuracy_score(y_true=y_test, y_pred=predictions_PCA))"
   ]
  },
  {
   "cell_type": "code",
   "execution_count": 25,
   "metadata": {
    "colab": {
     "base_uri": "https://localhost:8080/"
    },
    "id": "9rnh0fusCSs8",
    "outputId": "07a2e96c-5123-43f8-f341-dccd89c1f195"
   },
   "outputs": [
    {
     "name": "stdout",
     "output_type": "stream",
     "text": [
      "              precision    recall  f1-score   support\n",
      "\n",
      "           0       0.95      0.98      0.96       980\n",
      "           1       0.96      0.99      0.98      1135\n",
      "           2       0.91      0.93      0.92      1032\n",
      "           3       0.90      0.94      0.92      1010\n",
      "           4       0.94      0.95      0.95       982\n",
      "           5       0.91      0.90      0.90       892\n",
      "           6       0.96      0.94      0.95       958\n",
      "           7       0.95      0.93      0.94      1028\n",
      "           8       0.92      0.90      0.91       974\n",
      "           9       0.95      0.91      0.93      1009\n",
      "\n",
      "    accuracy                           0.94     10000\n",
      "   macro avg       0.94      0.94      0.94     10000\n",
      "weighted avg       0.94      0.94      0.94     10000\n",
      "\n"
     ]
    }
   ],
   "source": [
    "print(classification_report(y_test,predictions_PCA))"
   ]
  },
  {
   "cell_type": "code",
   "execution_count": 26,
   "metadata": {
    "colab": {
     "base_uri": "https://localhost:8080/"
    },
    "id": "lfZGCkl-CYTJ",
    "outputId": "9795c57e-3f7a-4a72-8f1d-971347623864"
   },
   "outputs": [
    {
     "name": "stdout",
     "output_type": "stream",
     "text": [
      "[[ 956    0    3    3    2    8    6    0    1    1]\n",
      " [   0 1119    6    2    0    1    3    1    3    0]\n",
      " [   8    9  963   10    6    6    7    6   17    0]\n",
      " [   3    2   14  949    1   16    2    6   15    2]\n",
      " [   2    1   11    1  936    1    5    4    3   18]\n",
      " [  13    5    4   35    5  801    7    1   19    2]\n",
      " [   7    4   17    1    8   17  902    0    2    0]\n",
      " [   1    5   24   13    9    2    0  952    3   19]\n",
      " [  10    8   10   26    5   23    6    6  872    8]\n",
      " [   5    7    3    9   26    4    0   24   10  921]]\n"
     ]
    }
   ],
   "source": [
    "print(confusion_matrix(y_test,predictions_PCA))"
   ]
  },
  {
   "cell_type": "markdown",
   "metadata": {
    "id": "SjbWjmGjCf_L"
   },
   "source": [
    "## Linear SVM with LDA"
   ]
  },
  {
   "cell_type": "code",
   "execution_count": 39,
   "metadata": {
    "id": "RJG8USoACvEV"
   },
   "outputs": [],
   "source": [
    "x_train_LDA = x_train\n",
    "x_test_LDA = x_test"
   ]
  },
  {
   "cell_type": "code",
   "execution_count": 40,
   "metadata": {
    "id": "1ow2rKIuCmNl"
   },
   "outputs": [],
   "source": [
    "from sklearn.discriminant_analysis import LinearDiscriminantAnalysis as LDA"
   ]
  },
  {
   "cell_type": "code",
   "execution_count": 49,
   "metadata": {
    "id": "9MxUTn95CsVR"
   },
   "outputs": [],
   "source": [
    "lda = LDA(n_components=6)\n",
    "x_train_LDA = lda.fit_transform(x_train_LDA, y_train)  \n",
    "x_test_LDA = lda.transform(x_test_LDA)"
   ]
  },
  {
   "cell_type": "code",
   "execution_count": 50,
   "metadata": {
    "id": "31-xdAlIC4QH"
   },
   "outputs": [],
   "source": [
    "model_LDA = SVC(C=1,kernel='linear')"
   ]
  },
  {
   "cell_type": "code",
   "execution_count": 51,
   "metadata": {
    "colab": {
     "base_uri": "https://localhost:8080/"
    },
    "id": "ZMcd98gMMtz7",
    "outputId": "c5a2cd2b-b866-4fac-bcb7-7530206382c8"
   },
   "outputs": [
    {
     "data": {
      "text/plain": [
       "SVC(C=1, break_ties=False, cache_size=200, class_weight=None, coef0=0.0,\n",
       "    decision_function_shape='ovr', degree=3, gamma='scale', kernel='linear',\n",
       "    max_iter=-1, probability=False, random_state=None, shrinking=True,\n",
       "    tol=0.001, verbose=False)"
      ]
     },
     "execution_count": 51,
     "metadata": {
      "tags": []
     },
     "output_type": "execute_result"
    }
   ],
   "source": [
    "model_LDA.fit(x_train_LDA,y_train)"
   ]
  },
  {
   "cell_type": "code",
   "execution_count": 52,
   "metadata": {
    "id": "qOylg2nsDG2o"
   },
   "outputs": [],
   "source": [
    "predictions_LDA = model_LDA.predict(x_test_LDA)"
   ]
  },
  {
   "cell_type": "code",
   "execution_count": 53,
   "metadata": {
    "colab": {
     "base_uri": "https://localhost:8080/"
    },
    "id": "peQ__zmlDVtq",
    "outputId": "931e006e-0eb7-4e62-e79e-6a57ad2c04c9"
   },
   "outputs": [
    {
     "name": "stdout",
     "output_type": "stream",
     "text": [
      "\n",
      "Testing Accuracy =  0.8528\n"
     ]
    }
   ],
   "source": [
    "print(\"\\nTesting Accuracy = \", accuracy_score(y_true=y_test, y_pred=predictions_LDA))"
   ]
  },
  {
   "cell_type": "code",
   "execution_count": 54,
   "metadata": {
    "colab": {
     "base_uri": "https://localhost:8080/"
    },
    "id": "gUbhI0xqDYYA",
    "outputId": "627983c0-3833-494e-82b0-039285212c93"
   },
   "outputs": [
    {
     "name": "stdout",
     "output_type": "stream",
     "text": [
      "              precision    recall  f1-score   support\n",
      "\n",
      "           0       0.93      0.97      0.95       980\n",
      "           1       0.95      0.96      0.95      1135\n",
      "           2       0.89      0.88      0.89      1032\n",
      "           3       0.80      0.82      0.81      1010\n",
      "           4       0.83      0.89      0.86       982\n",
      "           5       0.74      0.75      0.75       892\n",
      "           6       0.91      0.92      0.92       958\n",
      "           7       0.90      0.84      0.87      1028\n",
      "           8       0.75      0.68      0.72       974\n",
      "           9       0.79      0.79      0.79      1009\n",
      "\n",
      "    accuracy                           0.85     10000\n",
      "   macro avg       0.85      0.85      0.85     10000\n",
      "weighted avg       0.85      0.85      0.85     10000\n",
      "\n"
     ]
    }
   ],
   "source": [
    "print(classification_report(y_test,predictions_LDA))"
   ]
  },
  {
   "cell_type": "code",
   "execution_count": 55,
   "metadata": {
    "colab": {
     "base_uri": "https://localhost:8080/"
    },
    "id": "lkHKq9xuDeMZ",
    "outputId": "a1e1ce78-ae2d-4094-f665-006c9aa9500b"
   },
   "outputs": [
    {
     "name": "stdout",
     "output_type": "stream",
     "text": [
      "[[ 947    0    3    2    0   11   12    2    3    0]\n",
      " [   0 1088    6    3    0    2    3    1   30    2]\n",
      " [  13    8  909   27   13    5   21    7   24    5]\n",
      " [   3    1   30  824    1   72    1   21   53    4]\n",
      " [   0    4    8    0  870    2   14    1   14   69]\n",
      " [  11    2   10   79   10  670   14   14   74    8]\n",
      " [  16    3   13    0   12   23  885    0    5    1]\n",
      " [   3   16   18   12    4    0    0  868    3  104]\n",
      " [  12   23   18   64   25  109   22   11  665   25]\n",
      " [  10    2    3   13  112   11    1   40   15  802]]\n"
     ]
    }
   ],
   "source": [
    "print(confusion_matrix(y_test,predictions_LDA))"
   ]
  },
  {
   "cell_type": "code",
   "execution_count": null,
   "metadata": {
    "id": "CiRb2O5qOgIx"
   },
   "outputs": [],
   "source": []
  }
 ],
 "metadata": {
  "accelerator": "GPU",
  "colab": {
   "collapsed_sections": [],
   "name": "SVM_Linear_MNIST.ipynb",
   "provenance": []
  },
  "kernelspec": {
   "display_name": "Python 3",
   "language": "python",
   "name": "python3"
  },
  "language_info": {
   "codemirror_mode": {
    "name": "ipython",
    "version": 3
   },
   "file_extension": ".py",
   "mimetype": "text/x-python",
   "name": "python",
   "nbconvert_exporter": "python",
   "pygments_lexer": "ipython3",
   "version": "3.8.3"
  }
 },
 "nbformat": 4,
 "nbformat_minor": 1
}
