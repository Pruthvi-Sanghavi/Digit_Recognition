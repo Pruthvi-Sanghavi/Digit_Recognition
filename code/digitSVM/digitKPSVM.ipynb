{
 "cells": [
  {
   "cell_type": "code",
   "execution_count": 1,
   "metadata": {
    "id": "_rNsu8AsfJyb"
   },
   "outputs": [],
   "source": [
    "import matplotlib.pyplot as plt\n",
    "%matplotlib inline"
   ]
  },
  {
   "cell_type": "code",
   "execution_count": 2,
   "metadata": {
    "id": "pOh9DngzfaoE"
   },
   "outputs": [],
   "source": [
    "import numpy as np"
   ]
  },
  {
   "cell_type": "code",
   "execution_count": 3,
   "metadata": {
    "colab": {
     "base_uri": "https://localhost:8080/"
    },
    "id": "Pd4ZZAb-fhiq",
    "outputId": "167087fe-8c70-4396-aeef-63ee79f58f26"
   },
   "outputs": [
    {
     "name": "stdout",
     "output_type": "stream",
     "text": [
      "Downloading data from https://storage.googleapis.com/tensorflow/tf-keras-datasets/mnist.npz\n",
      "11493376/11490434 [==============================] - 0s 0us/step\n"
     ]
    }
   ],
   "source": [
    "from keras.datasets import mnist\n",
    "\n",
    "(x_train,y_train) , (x_test,y_test) = mnist.load_data()"
   ]
  },
  {
   "cell_type": "code",
   "execution_count": 4,
   "metadata": {
    "colab": {
     "base_uri": "https://localhost:8080/",
     "height": 282
    },
    "id": "_SaSmd5JfjRU",
    "outputId": "9c53eba3-1c83-494f-90d9-750107c0bef4"
   },
   "outputs": [
    {
     "data": {
      "text/plain": [
       "<matplotlib.image.AxesImage at 0x7f601fce7a90>"
      ]
     },
     "execution_count": 4,
     "metadata": {
      "tags": []
     },
     "output_type": "execute_result"
    },
    {
     "data": {
      "image/png": "[encoded data removed]",
      "text/plain": [
       "<Figure size 432x288 with 1 Axes>"
      ]
     },
     "metadata": {
      "needs_background": "light",
      "tags": []
     },
     "output_type": "display_data"
    }
   ],
   "source": [
    "single_image = x_train[0]\n",
    "plt.imshow(single_image,cmap='gray_r')"
   ]
  },
  {
   "cell_type": "code",
   "execution_count": 5,
   "metadata": {
    "id": "89pSLk-Vftks"
   },
   "outputs": [],
   "source": [
    "## Data Preprocessing and normalizing the data between 0 and 1\n",
    "x_train = x_train.reshape(60000,784)\n",
    "x_train = x_train/255\n",
    "x_test = x_test.reshape(10000,784)\n",
    "x_test = x_test/255"
   ]
  },
  {
   "cell_type": "code",
   "execution_count": 6,
   "metadata": {
    "id": "v_ygUsV6lwqn"
   },
   "outputs": [],
   "source": [
    "from sklearn.preprocessing import StandardScaler\n"
   ]
  },
  {
   "cell_type": "code",
   "execution_count": 7,
   "metadata": {
    "id": "GNNfSA9-lgID"
   },
   "outputs": [],
   "source": [
    "s = StandardScaler()\n"
   ]
  },
  {
   "cell_type": "code",
   "execution_count": 9,
   "metadata": {
    "id": "DPRaSQ6NlrxW"
   },
   "outputs": [],
   "source": [
    "x_train = s.fit_transform(x_train)\n",
    "x_test  = s.fit_transform(x_test)"
   ]
  },
  {
   "cell_type": "markdown",
   "metadata": {
    "id": "FEZZO892l1LU"
   },
   "source": [
    "## Kernel SVM-Polynomial:"
   ]
  },
  {
   "cell_type": "code",
   "execution_count": 10,
   "metadata": {
    "id": "4QXFfQak5au4"
   },
   "outputs": [],
   "source": [
    "from sklearn.svm import SVC "
   ]
  },
  {
   "cell_type": "code",
   "execution_count": 11,
   "metadata": {
    "id": "qASFM46d6BfG"
   },
   "outputs": [],
   "source": [
    "model = SVC(C=1,kernel='poly')"
   ]
  },
  {
   "cell_type": "code",
   "execution_count": 12,
   "metadata": {
    "colab": {
     "base_uri": "https://localhost:8080/"
    },
    "id": "V5zrhllh7FeA",
    "outputId": "6d7602a7-c533-418d-ce96-5c0bd1965509"
   },
   "outputs": [
    {
     "data": {
      "text/plain": [
       "SVC(C=1, break_ties=False, cache_size=200, class_weight=None, coef0=0.0,\n",
       "    decision_function_shape='ovr', degree=3, gamma='scale', kernel='poly',\n",
       "    max_iter=-1, probability=False, random_state=None, shrinking=True,\n",
       "    tol=0.001, verbose=False)"
      ]
     },
     "execution_count": 12,
     "metadata": {
      "tags": []
     },
     "output_type": "execute_result"
    }
   ],
   "source": [
    "model.fit(x_train,y_train)"
   ]
  },
  {
   "cell_type": "code",
   "execution_count": 13,
   "metadata": {
    "id": "71FJevpt7blE"
   },
   "outputs": [],
   "source": [
    "from sklearn.metrics import classification_report, accuracy_score, confusion_matrix"
   ]
  },
  {
   "cell_type": "code",
   "execution_count": 14,
   "metadata": {
    "id": "e3xjYw1j-hfR"
   },
   "outputs": [],
   "source": [
    "predictions = model.predict(x_test)"
   ]
  },
  {
   "cell_type": "code",
   "execution_count": 15,
   "metadata": {
    "colab": {
     "base_uri": "https://localhost:8080/"
    },
    "id": "pMATbjvx-x8v",
    "outputId": "7755d02b-785d-4a82-af40-9946811f2431"
   },
   "outputs": [
    {
     "name": "stdout",
     "output_type": "stream",
     "text": [
      "\n",
      "Testing Accuracy =  0.9611\n"
     ]
    }
   ],
   "source": [
    "print(\"\\nTesting Accuracy = \", accuracy_score(y_true=y_test, y_pred=predictions))"
   ]
  },
  {
   "cell_type": "code",
   "execution_count": 16,
   "metadata": {
    "colab": {
     "base_uri": "https://localhost:8080/"
    },
    "id": "z5TyWDUM_P4J",
    "outputId": "0644d758-0267-4033-aeba-54e0a29f4527"
   },
   "outputs": [
    {
     "name": "stdout",
     "output_type": "stream",
     "text": [
      "              precision    recall  f1-score   support\n",
      "\n",
      "           0       0.98      0.98      0.98       980\n",
      "           1       0.99      0.99      0.99      1135\n",
      "           2       0.98      0.95      0.96      1032\n",
      "           3       0.97      0.96      0.97      1010\n",
      "           4       0.94      0.97      0.95       982\n",
      "           5       0.97      0.97      0.97       892\n",
      "           6       0.97      0.96      0.97       958\n",
      "           7       0.98      0.93      0.95      1028\n",
      "           8       0.89      0.97      0.93       974\n",
      "           9       0.95      0.94      0.94      1009\n",
      "\n",
      "    accuracy                           0.96     10000\n",
      "   macro avg       0.96      0.96      0.96     10000\n",
      "weighted avg       0.96      0.96      0.96     10000\n",
      "\n"
     ]
    }
   ],
   "source": [
    "print(classification_report(y_test,predictions))"
   ]
  },
  {
   "cell_type": "code",
   "execution_count": 17,
   "metadata": {
    "colab": {
     "base_uri": "https://localhost:8080/"
    },
    "id": "28xeJN-VATtR",
    "outputId": "085743c3-5d47-41cb-d4e4-75412e130afc"
   },
   "outputs": [
    {
     "name": "stdout",
     "output_type": "stream",
     "text": [
      "[[ 962    0    0    1    0    3    4    0   10    0]\n",
      " [   0 1122    3    0    2    1    4    0    3    0]\n",
      " [   6    0  977    4    2    0    2    6   35    0]\n",
      " [   0    0    0  972    0    4    2    5   21    6]\n",
      " [   0    0    2    0  952    0    7    2    5   14]\n",
      " [   2    1    2    4    2  862    7    1    9    2]\n",
      " [   4    3    1    0   10    7  920    0   13    0]\n",
      " [   1    9   11    2   13    0    0  956   10   26]\n",
      " [   1    0    3    7    4    7    2    2  944    4]\n",
      " [   3    4    1   12   27    3    0    3   12  944]]\n"
     ]
    }
   ],
   "source": [
    "print(confusion_matrix(y_test,predictions))"
   ]
  },
  {
   "cell_type": "markdown",
   "metadata": {
    "id": "XoKn42MzGggq"
   },
   "source": [
    "## Kernel SVM-Polynomial with PCA"
   ]
  },
  {
   "cell_type": "code",
   "execution_count": 18,
   "metadata": {
    "id": "heIH-z1n_2rt"
   },
   "outputs": [],
   "source": [
    "x_train_PCA = x_train\n",
    "x_test_PCA = x_test"
   ]
  },
  {
   "cell_type": "code",
   "execution_count": 19,
   "metadata": {
    "id": "X7M-DWnWAq5i"
   },
   "outputs": [],
   "source": [
    "## Applying PCA on the Dataset\n",
    "from sklearn.decomposition import PCA"
   ]
  },
  {
   "cell_type": "code",
   "execution_count": 20,
   "metadata": {
    "id": "oYQ3NWSBA2tS"
   },
   "outputs": [],
   "source": [
    "pca = PCA(n_components=0.97)        # Should lie between 0.95 to 0.99\n",
    "x_train_PCA = pca.fit_transform(x_train_PCA)  \n",
    "x_test_PCA = pca.transform(x_test_PCA)"
   ]
  },
  {
   "cell_type": "code",
   "execution_count": 22,
   "metadata": {
    "id": "xVf9MjptBLZQ"
   },
   "outputs": [],
   "source": [
    "model_PCA = SVC(C=1,kernel='poly')"
   ]
  },
  {
   "cell_type": "code",
   "execution_count": 23,
   "metadata": {
    "colab": {
     "base_uri": "https://localhost:8080/"
    },
    "id": "WgDt9ZgjBv1V",
    "outputId": "9230e0f2-0ea2-46e3-e808-701541a1d3e9"
   },
   "outputs": [
    {
     "data": {
      "text/plain": [
       "SVC(C=1, break_ties=False, cache_size=200, class_weight=None, coef0=0.0,\n",
       "    decision_function_shape='ovr', degree=3, gamma='scale', kernel='poly',\n",
       "    max_iter=-1, probability=False, random_state=None, shrinking=True,\n",
       "    tol=0.001, verbose=False)"
      ]
     },
     "execution_count": 23,
     "metadata": {
      "tags": []
     },
     "output_type": "execute_result"
    }
   ],
   "source": [
    "model_PCA.fit(x_train_PCA,y_train)"
   ]
  },
  {
   "cell_type": "code",
   "execution_count": 24,
   "metadata": {
    "id": "ZWRtJWcRBhR3"
   },
   "outputs": [],
   "source": [
    "predictions_PCA = model_PCA.predict(x_test_PCA)"
   ]
  },
  {
   "cell_type": "code",
   "execution_count": 25,
   "metadata": {
    "colab": {
     "base_uri": "https://localhost:8080/"
    },
    "id": "j1ZFTF2FCKQK",
    "outputId": "0767502f-db10-4c42-ad1d-4130a91b358a"
   },
   "outputs": [
    {
     "name": "stdout",
     "output_type": "stream",
     "text": [
      "\n",
      "Testing Accuracy =  0.9624\n"
     ]
    }
   ],
   "source": [
    "print(\"\\nTesting Accuracy = \", accuracy_score(y_true=y_test, y_pred=predictions_PCA))"
   ]
  },
  {
   "cell_type": "code",
   "execution_count": 26,
   "metadata": {
    "colab": {
     "base_uri": "https://localhost:8080/"
    },
    "id": "9rnh0fusCSs8",
    "outputId": "c3ed91bb-3a84-4cf9-f107-928695028559"
   },
   "outputs": [
    {
     "name": "stdout",
     "output_type": "stream",
     "text": [
      "              precision    recall  f1-score   support\n",
      "\n",
      "           0       0.99      0.98      0.98       980\n",
      "           1       0.99      0.99      0.99      1135\n",
      "           2       0.97      0.95      0.96      1032\n",
      "           3       0.97      0.96      0.97      1010\n",
      "           4       0.94      0.97      0.96       982\n",
      "           5       0.97      0.97      0.97       892\n",
      "           6       0.97      0.96      0.97       958\n",
      "           7       0.98      0.93      0.96      1028\n",
      "           8       0.90      0.97      0.93       974\n",
      "           9       0.95      0.94      0.94      1009\n",
      "\n",
      "    accuracy                           0.96     10000\n",
      "   macro avg       0.96      0.96      0.96     10000\n",
      "weighted avg       0.96      0.96      0.96     10000\n",
      "\n"
     ]
    }
   ],
   "source": [
    "print(classification_report(y_test,predictions_PCA))"
   ]
  },
  {
   "cell_type": "code",
   "execution_count": 27,
   "metadata": {
    "colab": {
     "base_uri": "https://localhost:8080/"
    },
    "id": "lfZGCkl-CYTJ",
    "outputId": "2a63e809-f58c-4d2d-a8a0-befc74102d64"
   },
   "outputs": [
    {
     "name": "stdout",
     "output_type": "stream",
     "text": [
      "[[ 963    0    0    1    0    3    4    0    9    0]\n",
      " [   0 1122    3    0    2    1    4    0    3    0]\n",
      " [   3    0  982    3    2    1    2    7   32    0]\n",
      " [   0    0    1  972    0    4    2    5   20    6]\n",
      " [   0    0    3    0  954    0    7    2    4   12]\n",
      " [   2    1    2    5    2  862    7    1    8    2]\n",
      " [   4    2    1    0   10    7  921    0   13    0]\n",
      " [   1    9   12    2   11    0    0  960    7   26]\n",
      " [   1    0    3    7    4    7    2    2  944    4]\n",
      " [   2    4    1   12   26    4    0    4   12  944]]\n"
     ]
    }
   ],
   "source": [
    "print(confusion_matrix(y_test,predictions_PCA))"
   ]
  },
  {
   "cell_type": "markdown",
   "metadata": {
    "id": "SjbWjmGjCf_L"
   },
   "source": [
    "## Kernel SVM-Polynomial with LDA"
   ]
  },
  {
   "cell_type": "code",
   "execution_count": 28,
   "metadata": {
    "id": "RJG8USoACvEV"
   },
   "outputs": [],
   "source": [
    "x_train_LDA = x_train\n",
    "x_test_LDA = x_test"
   ]
  },
  {
   "cell_type": "code",
   "execution_count": 29,
   "metadata": {
    "id": "1ow2rKIuCmNl"
   },
   "outputs": [],
   "source": [
    "from sklearn.discriminant_analysis import LinearDiscriminantAnalysis as LDA"
   ]
  },
  {
   "cell_type": "code",
   "execution_count": 30,
   "metadata": {
    "id": "9MxUTn95CsVR"
   },
   "outputs": [],
   "source": [
    "lda = LDA(n_components=9)\n",
    "x_train_LDA = lda.fit_transform(x_train_LDA,y_train)  \n",
    "x_test_LDA = lda.transform(x_test_LDA)"
   ]
  },
  {
   "cell_type": "code",
   "execution_count": 31,
   "metadata": {
    "id": "31-xdAlIC4QH"
   },
   "outputs": [],
   "source": [
    "model_LDA = SVC(C=1,kernel='poly')"
   ]
  },
  {
   "cell_type": "code",
   "execution_count": 34,
   "metadata": {
    "colab": {
     "base_uri": "https://localhost:8080/"
    },
    "id": "8edLBjfea0eO",
    "outputId": "803dc653-c2a5-4fc4-f84d-d0b91621806e"
   },
   "outputs": [
    {
     "data": {
      "text/plain": [
       "SVC(C=1, break_ties=False, cache_size=200, class_weight=None, coef0=0.0,\n",
       "    decision_function_shape='ovr', degree=3, gamma='scale', kernel='poly',\n",
       "    max_iter=-1, probability=False, random_state=None, shrinking=True,\n",
       "    tol=0.001, verbose=False)"
      ]
     },
     "execution_count": 34,
     "metadata": {
      "tags": []
     },
     "output_type": "execute_result"
    }
   ],
   "source": [
    "model_LDA.fit(x_train_LDA,y_train)"
   ]
  },
  {
   "cell_type": "code",
   "execution_count": 35,
   "metadata": {
    "id": "qOylg2nsDG2o"
   },
   "outputs": [],
   "source": [
    "predictions_LDA = model_LDA.predict(x_test_LDA)"
   ]
  },
  {
   "cell_type": "code",
   "execution_count": 36,
   "metadata": {
    "colab": {
     "base_uri": "https://localhost:8080/"
    },
    "id": "peQ__zmlDVtq",
    "outputId": "16a7312e-31f1-43fc-b306-fe859b1711cd"
   },
   "outputs": [
    {
     "name": "stdout",
     "output_type": "stream",
     "text": [
      "\n",
      "Testing Accuracy =  0.9088\n"
     ]
    }
   ],
   "source": [
    "print(\"\\nTesting Accuracy = \", accuracy_score(y_true=y_test, y_pred=predictions_LDA))"
   ]
  },
  {
   "cell_type": "code",
   "execution_count": 37,
   "metadata": {
    "colab": {
     "base_uri": "https://localhost:8080/"
    },
    "id": "gUbhI0xqDYYA",
    "outputId": "212665cd-98c3-4a58-c0ed-822316b14f45"
   },
   "outputs": [
    {
     "name": "stdout",
     "output_type": "stream",
     "text": [
      "              precision    recall  f1-score   support\n",
      "\n",
      "           0       0.96      0.97      0.96       980\n",
      "           1       0.96      0.96      0.96      1135\n",
      "           2       0.92      0.90      0.91      1032\n",
      "           3       0.88      0.89      0.88      1010\n",
      "           4       0.92      0.92      0.92       982\n",
      "           5       0.84      0.87      0.86       892\n",
      "           6       0.95      0.93      0.94       958\n",
      "           7       0.93      0.90      0.91      1028\n",
      "           8       0.81      0.87      0.84       974\n",
      "           9       0.90      0.89      0.89      1009\n",
      "\n",
      "    accuracy                           0.91     10000\n",
      "   macro avg       0.91      0.91      0.91     10000\n",
      "weighted avg       0.91      0.91      0.91     10000\n",
      "\n"
     ]
    }
   ],
   "source": [
    "print(classification_report(y_test,predictions_LDA))"
   ]
  },
  {
   "cell_type": "code",
   "execution_count": 38,
   "metadata": {
    "colab": {
     "base_uri": "https://localhost:8080/"
    },
    "id": "lkHKq9xuDeMZ",
    "outputId": "debae8a2-23d8-4ee8-e55c-9fd75fb9ff5e"
   },
   "outputs": [
    {
     "name": "stdout",
     "output_type": "stream",
     "text": [
      "[[ 947    0    1    4    1   11    5    3    8    0]\n",
      " [   0 1093    5    5    1    3    1    0   27    0]\n",
      " [   6    5  929   16   12    8   13    7   35    1]\n",
      " [   3    0   18  895    0   41    1   13   33    6]\n",
      " [   0    1    9    0  902    1    9    5   17   38]\n",
      " [   7    2    6   43    6  776    4    7   38    3]\n",
      " [  10    3   12    0    9   27  887    0   10    0]\n",
      " [   1   10   19   17    7    5    0  921    6   42]\n",
      " [   6   19    9   24   10   39    9    7  845    6]\n",
      " [   6    0    2   16   35    8    0   23   26  893]]\n"
     ]
    }
   ],
   "source": [
    "print(confusion_matrix(y_test,predictions_LDA))"
   ]
  },
  {
   "cell_type": "code",
   "execution_count": null,
   "metadata": {
    "id": "KPc7bK1jiHfY"
   },
   "outputs": [],
   "source": []
  }
 ],
 "metadata": {
  "accelerator": "GPU",
  "colab": {
   "collapsed_sections": [],
   "name": "SVM_Polynomial_MNIST.ipynb",
   "provenance": []
  },
  "kernelspec": {
   "display_name": "Python 3",
   "language": "python",
   "name": "python3"
  },
  "language_info": {
   "codemirror_mode": {
    "name": "ipython",
    "version": 3
   },
   "file_extension": ".py",
   "mimetype": "text/x-python",
   "name": "python",
   "nbconvert_exporter": "python",
   "pygments_lexer": "ipython3",
   "version": "3.8.3"
  }
 },
 "nbformat": 4,
 "nbformat_minor": 1
}
