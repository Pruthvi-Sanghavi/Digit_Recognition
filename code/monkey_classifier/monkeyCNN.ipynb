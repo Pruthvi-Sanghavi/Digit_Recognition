{
 "cells": [
  {
   "cell_type": "code",
   "execution_count": 1,
   "metadata": {
    "id": "0dN119p3f5sQ"
   },
   "outputs": [],
   "source": [
    "import matplotlib.pyplot as plt\n",
    "%matplotlib inline\n",
    "import tensorflow as tf"
   ]
  },
  {
   "cell_type": "code",
   "execution_count": 2,
   "metadata": {
    "id": "1OYGOkrzf5sS"
   },
   "outputs": [],
   "source": [
    "from keras.preprocessing.image import ImageDataGenerator"
   ]
  },
  {
   "cell_type": "code",
   "execution_count": 3,
   "metadata": {
    "id": "6cD0E72wf5sS"
   },
   "outputs": [],
   "source": [
    "image_gen = ImageDataGenerator(rotation_range=30,\n",
    "                              width_shift_range=0.1,\n",
    "                              height_shift_range=0.1,\n",
    "                              rescale=1/255,\n",
    "                              zoom_range=0.2,\n",
    "                              shear_range=0.2,\n",
    "                              fill_mode='nearest')"
   ]
  },
  {
   "cell_type": "code",
   "execution_count": 4,
   "metadata": {
    "id": "onWHuQb7f5sT"
   },
   "outputs": [],
   "source": [
    "from keras.applications import vgg16\n",
    "from keras.models import Sequential\n",
    "from keras.layers import Dense,Dropout,Flatten,Conv2D,MaxPooling2D\n",
    "from keras import optimizers"
   ]
  },
  {
   "cell_type": "code",
   "execution_count": 19,
   "metadata": {
    "colab": {
     "base_uri": "https://localhost:8080/"
    },
    "id": "u80xjHRaf5sT",
    "outputId": "1a54a2f3-7cf1-44bd-8dc6-f48a90e2e3c5"
   },
   "outputs": [],
   "source": [
    "# model = vgg16.VGG16(weights='imagenet', include_top=False, \n",
    "#                     input_shape=(150,150,3), pooling='max')\n",
    "model = Sequential()\n",
    "model.add(Conv2D(28, kernel_size=(3,3), input_shape=(150,150,3)))\n",
    "model.add(MaxPooling2D(pool_size=(2, 2)))\n",
    "model.add(Conv2D(28, kernel_size=(3,3), input_shape=(150,150,3)))\n",
    "model.add(MaxPooling2D(pool_size=(2, 2)))\n",
    "model.add(Flatten()) # Flattening the 2D arrays for fully connected layers\n",
    "model.add(Dense(128, activation=tf.nn.relu))\n",
    "model.add(Dropout(0.2))\n",
    "model.add(Dense(10,activation=tf.nn.softmax))\n",
    "\n",
    "adam = optimizers.Adam(lr=0.0001, beta_1=0.9, beta_2=0.999, epsilon=1e-08, decay=0.00001)\n",
    "\n",
    "\n",
    "\n",
    "\n",
    "model.compile(loss=\"categorical_crossentropy\",\n",
    "                      optimizer=adam,\n",
    "                      metrics=[\"accuracy\"])"
   ]
  },
  {
   "cell_type": "code",
   "execution_count": 20,
   "metadata": {
    "colab": {
     "base_uri": "https://localhost:8080/"
    },
    "id": "YthVROVNf5sU",
    "outputId": "2c924710-9d21-4744-c191-ad9a1cd390ba"
   },
   "outputs": [
    {
     "name": "stdout",
     "output_type": "stream",
     "text": [
      "Model: \"sequential_2\"\n",
      "_________________________________________________________________\n",
      "Layer (type)                 Output Shape              Param #   \n",
      "=================================================================\n",
      "conv2d_1 (Conv2D)            (None, 148, 148, 28)      784       \n",
      "_________________________________________________________________\n",
      "max_pooling2d_1 (MaxPooling2 (None, 74, 74, 28)        0         \n",
      "_________________________________________________________________\n",
      "conv2d_2 (Conv2D)            (None, 72, 72, 28)        7084      \n",
      "_________________________________________________________________\n",
      "max_pooling2d_2 (MaxPooling2 (None, 36, 36, 28)        0         \n",
      "_________________________________________________________________\n",
      "flatten_1 (Flatten)          (None, 36288)             0         \n",
      "_________________________________________________________________\n",
      "dense_2 (Dense)              (None, 128)               4644992   \n",
      "_________________________________________________________________\n",
      "dropout_1 (Dropout)          (None, 128)               0         \n",
      "_________________________________________________________________\n",
      "dense_3 (Dense)              (None, 10)                1290      \n",
      "=================================================================\n",
      "Total params: 4,654,150\n",
      "Trainable params: 4,654,150\n",
      "Non-trainable params: 0\n",
      "_________________________________________________________________\n"
     ]
    }
   ],
   "source": [
    "# transfer_model.summary()\n",
    "model.summary()\n"
   ]
  },
  {
   "cell_type": "code",
   "execution_count": 21,
   "metadata": {
    "id": "akhV5-fef5sU"
   },
   "outputs": [],
   "source": [
    "train_directory = 'datasets/training/training'\n",
    "validation_directory = 'datasets/validation/validation'"
   ]
  },
  {
   "cell_type": "code",
   "execution_count": 22,
   "metadata": {
    "colab": {
     "base_uri": "https://localhost:8080/"
    },
    "id": "LWEgeulLf5sV",
    "outputId": "52e854ab-d4ae-46ca-a544-49d10928f0b7"
   },
   "outputs": [
    {
     "name": "stdout",
     "output_type": "stream",
     "text": [
      "Found 1098 images belonging to 10 classes.\n"
     ]
    }
   ],
   "source": [
    "## Getting the training and the validation sets\n",
    "batch_size = 16\n",
    "train_gen = image_gen.flow_from_directory(train_directory,target_size=(150,150),batch_size=batch_size,\n",
    "                                         class_mode='categorical')"
   ]
  },
  {
   "cell_type": "code",
   "execution_count": 23,
   "metadata": {
    "colab": {
     "base_uri": "https://localhost:8080/"
    },
    "id": "q5cwkfxff5sV",
    "outputId": "2c87b8bc-3fe6-4058-9e47-fa261111ee35"
   },
   "outputs": [
    {
     "name": "stdout",
     "output_type": "stream",
     "text": [
      "Found 272 images belonging to 10 classes.\n"
     ]
    }
   ],
   "source": [
    "validation_gen = image_gen.flow_from_directory(validation_directory,target_size=(150,150),batch_size=batch_size,\n",
    "                                         class_mode='categorical')"
   ]
  },
  {
   "cell_type": "code",
   "execution_count": 37,
   "metadata": {
    "colab": {
     "base_uri": "https://localhost:8080/"
    },
    "id": "k9yv-lQQf5sV",
    "outputId": "135df25b-d90b-4330-c0bc-536565a2eae0"
   },
   "outputs": [
    {
     "name": "stdout",
     "output_type": "stream",
     "text": [
      "Epoch 1/20\n",
      "68/68 [==============================] - 26s 381ms/step - loss: 0.9458 - accuracy: 0.6784 - val_loss: 1.2976 - val_accuracy: 0.5588\n",
      "Epoch 2/20\n",
      "68/68 [==============================] - 28s 409ms/step - loss: 0.9830 - accuracy: 0.6516 - val_loss: 1.1241 - val_accuracy: 0.5882\n",
      "Epoch 3/20\n",
      "68/68 [==============================] - 26s 383ms/step - loss: 1.0022 - accuracy: 0.6488 - val_loss: 1.2132 - val_accuracy: 0.5809\n",
      "Epoch 4/20\n",
      "68/68 [==============================] - 29s 425ms/step - loss: 0.9298 - accuracy: 0.6701 - val_loss: 1.2027 - val_accuracy: 0.5772\n",
      "Epoch 5/20\n",
      "68/68 [==============================] - 30s 440ms/step - loss: 0.9531 - accuracy: 0.6719 - val_loss: 1.2495 - val_accuracy: 0.5699\n",
      "Epoch 6/20\n",
      "68/68 [==============================] - 27s 403ms/step - loss: 0.9067 - accuracy: 0.6821 - val_loss: 1.2207 - val_accuracy: 0.5846\n",
      "Epoch 7/20\n",
      "68/68 [==============================] - 27s 392ms/step - loss: 0.8876 - accuracy: 0.6922 - val_loss: 1.2403 - val_accuracy: 0.5735\n",
      "Epoch 8/20\n",
      "68/68 [==============================] - 27s 398ms/step - loss: 0.9078 - accuracy: 0.6969 - val_loss: 1.2619 - val_accuracy: 0.5809\n",
      "Epoch 9/20\n",
      "68/68 [==============================] - 27s 399ms/step - loss: 0.8767 - accuracy: 0.7006 - val_loss: 1.1845 - val_accuracy: 0.6066\n",
      "Epoch 10/20\n",
      "68/68 [==============================] - 27s 398ms/step - loss: 0.8630 - accuracy: 0.7006 - val_loss: 1.2264 - val_accuracy: 0.5625\n",
      "Epoch 11/20\n",
      "68/68 [==============================] - 27s 400ms/step - loss: 0.8777 - accuracy: 0.7052 - val_loss: 1.2598 - val_accuracy: 0.5882\n",
      "Epoch 12/20\n",
      "68/68 [==============================] - 27s 395ms/step - loss: 0.8602 - accuracy: 0.7153 - val_loss: 1.1815 - val_accuracy: 0.5956\n",
      "Epoch 13/20\n",
      "68/68 [==============================] - 26s 387ms/step - loss: 0.8339 - accuracy: 0.7070 - val_loss: 1.2593 - val_accuracy: 0.5956\n",
      "Epoch 14/20\n",
      "68/68 [==============================] - 26s 379ms/step - loss: 0.8498 - accuracy: 0.7015 - val_loss: 1.2505 - val_accuracy: 0.5993\n",
      "Epoch 15/20\n",
      "68/68 [==============================] - 26s 380ms/step - loss: 0.8237 - accuracy: 0.7116 - val_loss: 1.1770 - val_accuracy: 0.6324\n",
      "Epoch 16/20\n",
      "68/68 [==============================] - 26s 382ms/step - loss: 0.8330 - accuracy: 0.7033 - val_loss: 1.1772 - val_accuracy: 0.6287\n",
      "Epoch 17/20\n",
      "68/68 [==============================] - 26s 378ms/step - loss: 0.8070 - accuracy: 0.7292 - val_loss: 1.1562 - val_accuracy: 0.6176\n",
      "Epoch 18/20\n",
      "68/68 [==============================] - 26s 383ms/step - loss: 0.8255 - accuracy: 0.7107 - val_loss: 1.2469 - val_accuracy: 0.6250\n",
      "Epoch 19/20\n",
      "68/68 [==============================] - 26s 379ms/step - loss: 0.7860 - accuracy: 0.7246 - val_loss: 1.2356 - val_accuracy: 0.5919\n",
      "Epoch 20/20\n",
      "68/68 [==============================] - 26s 386ms/step - loss: 0.7531 - accuracy: 0.7375 - val_loss: 1.2777 - val_accuracy: 0.6029\n"
     ]
    }
   ],
   "source": [
    "history = model.fit_generator(train_gen,epochs=20,steps_per_epoch=1097//batch_size,\n",
    "                             validation_data=validation_gen,validation_steps=272//batch_size)\n",
    "\n",
    "# history = model.fit_generator(train_gen,epochs=10,\n",
    "#                               validation_data=validation_gen)"
   ]
  },
  {
   "cell_type": "code",
   "execution_count": 14,
   "metadata": {
    "id": "U6_NXqkgf5sW"
   },
   "outputs": [],
   "source": [
    "#model.save('tlmonkeyCNN.h5')"
   ]
  },
  {
   "cell_type": "code",
   "execution_count": 38,
   "metadata": {
    "colab": {
     "base_uri": "https://localhost:8080/"
    },
    "id": "F7jMpFoFf5sX",
    "outputId": "5eb6dc6c-fbbc-4070-8cfc-eb4dd34b5143"
   },
   "outputs": [],
   "source": [
    "_, acc = model.evaluate_generator(validation_gen, steps=272 //batch_size)"
   ]
  },
  {
   "cell_type": "code",
   "execution_count": 40,
   "metadata": {
    "colab": {
     "base_uri": "https://localhost:8080/"
    },
    "id": "0izNvZlRf5sX",
    "outputId": "1eb9dfcf-7362-4ca4-9cfe-c2c8ef69b187"
   },
   "outputs": [
    {
     "name": "stdout",
     "output_type": "stream",
     "text": [
      "The testing accuracy for the CNN with the 10-Species-Monkey dataset is : 58.088\n"
     ]
    }
   ],
   "source": [
    "print('The testing accuracy for the CNN with the 10-Species-Monkey dataset is : %.3f' % (acc * 100.0))"
   ]
  },
  {
   "cell_type": "code",
   "execution_count": 41,
   "metadata": {},
   "outputs": [
    {
     "data": {
      "image/png": "[encoded data removed]",
      "text/plain": [
       "<Figure size 432x288 with 1 Axes>"
      ]
     },
     "metadata": {
      "needs_background": "light"
     },
     "output_type": "display_data"
    },
    {
     "data": {
      "image/png": "[encoded data removed]",
      "text/plain": [
       "<Figure size 432x288 with 1 Axes>"
      ]
     },
     "metadata": {
      "needs_background": "light"
     },
     "output_type": "display_data"
    }
   ],
   "source": [
    "plt.plot(history.history['accuracy'])\n",
    "plt.plot(history.history['val_accuracy'])\n",
    "\n",
    "plt.title('model accuracy')\n",
    "# plt.xlim([0,15])\n",
    "# plt.ylim([0,1])\n",
    "plt.ylabel('accuracy')\n",
    "plt.xlabel('epoch')\n",
    "plt.legend(['train', 'validation'], loc='upper left')\n",
    "plt.grid()\n",
    "plt.show()\n",
    "\n",
    "plt.plot(history.history['loss'])\n",
    "plt.plot(history.history['val_loss'])\n",
    "plt.title('model loss')\n",
    "plt.ylabel('loss')\n",
    "plt.xlabel('epoch')\n",
    "plt.legend(['train', 'val'], loc='upper left')\n",
    "plt.grid()\n",
    "plt.show()"
   ]
  },
  {
   "cell_type": "code",
   "execution_count": null,
   "metadata": {},
   "outputs": [],
   "source": []
  }
 ],
 "metadata": {
  "colab": {
   "name": "Transfer Learning.ipynb",
   "provenance": [],
   "toc_visible": true
  },
  "kernelspec": {
   "display_name": "Python 3",
   "language": "python",
   "name": "python3"
  },
  "language_info": {
   "codemirror_mode": {
    "name": "ipython",
    "version": 3
   },
   "file_extension": ".py",
   "mimetype": "text/x-python",
   "name": "python",
   "nbconvert_exporter": "python",
   "pygments_lexer": "ipython3",
   "version": "3.8.3"
  }
 },
 "nbformat": 4,
 "nbformat_minor": 1
}
